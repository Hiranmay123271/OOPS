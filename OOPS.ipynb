{
  "metadata": {
    "kernelspec": {
      "name": "python",
      "display_name": "Python (Pyodide)",
      "language": "python"
    },
    "language_info": {
      "codemirror_mode": {
        "name": "python",
        "version": 3
      },
      "file_extension": ".py",
      "mimetype": "text/x-python",
      "name": "python",
      "nbconvert_exporter": "python",
      "pygments_lexer": "ipython3",
      "version": "3.8"
    }
  },
  "nbformat_minor": 4,
  "nbformat": 4,
  "cells": [
    {
      "cell_type": "markdown",
      "source": "1.What are the five key concepts of Object-Oriented Programming (OOP)?",
      "metadata": {}
    },
    {
      "cell_type": "markdown",
      "source": "Ans: The following are the five main ideas of object-oriented programming, or OOP:\n\n1.Classes and Objects: An object is an instance of a class, and a class is a blueprint for making objects.\n\n2.Encapsulation: combining methods (functions) and data (attributes) into a single unit (class), with access to some components restricted.\n\n3.Abstraction: Hiding complex implementation details and displaying only necessary aspects.\n\n4.Inheritance: The process by which a new class gets its methods and attributes from an old class.\n\n5.Polymorphism: The capacity to apply a single method or interface in many contexts and across classes.",
      "metadata": {}
    },
    {
      "cell_type": "markdown",
      "source": "2.Write a Python class for a `Car` with attributes for `make`, `model`, and `year`. Include a method to display the car's information.",
      "metadata": {}
    },
    {
      "cell_type": "code",
      "source": "class Car:\n    def __init__(self, make, model, year):\n        self.make = make\n        self.model = model\n        self.year = year\n\n    def display_info(self):\n        print(f\"Car: {self.make} {self.model} {self.year}\")\n\nmy_car = Car(\"Mercedes\", \"Amg\", 2020)\nmy_car.display_info()",
      "metadata": {
        "trusted": true
      },
      "outputs": [
        {
          "name": "stdout",
          "text": "Car: Mercedes Amg 2020\n",
          "output_type": "stream"
        }
      ],
      "execution_count": 4
    },
    {
      "cell_type": "markdown",
      "source": "3.Explain the difference between instance methods and class methods. Provide an example of each.",
      "metadata": {}
    },
    {
      "cell_type": "markdown",
      "source": "Ans: Difference between Instance and Class method\n\nInstance Method:\n\n1.Work with instances of a class using instance methods.\n\n2.They use self, which stands for the instance, as the first parameter.\n\n3.Is able to see and change instance properties.\n\nClass Method:\n\n1.Work on the class itself, not on instances, when using class methods.\n\n2.They accept the class as the first parameter, cls.\n\n3.Usually applied to techniques that have an impact on the entire class.\n\n## Let' take example for both the method to understand",
      "metadata": {}
    },
    {
      "cell_type": "code",
      "source": "class MyClass:\n    # Instance method\n    def instance_method(self):\n        return \"This is an instance method\", self\nobj = MyClass()\nprint(obj.instance_method())  # Accessed via an instance\n",
      "metadata": {
        "trusted": true
      },
      "outputs": [
        {
          "name": "stdout",
          "text": "('This is an instance method', <__main__.MyClass object at 0x24a3ef8>)\n",
          "output_type": "stream"
        }
      ],
      "execution_count": 5
    },
    {
      "cell_type": "code",
      "source": "class MyClass:\n    # Class method\n    def class_method(cls):\n        return \"This is a class method\", cls\n\nprint(MyClass.class_method())  # Accessed via the class\n",
      "metadata": {
        "trusted": true
      },
      "outputs": [
        {
          "name": "stdout",
          "text": "('This is a class method', <class '__main__.MyClass'>)\n",
          "output_type": "stream"
        }
      ],
      "execution_count": 6
    },
    {
      "cell_type": "markdown",
      "source": "4.How does Python implement method overloading? Give an example.",
      "metadata": {}
    },
    {
      "cell_type": "markdown",
      "source": "Ans: The classic concept of method overloading is not supported by Python, unlike several other programming languages (such Java or C++). Rather, it permits a class to have a single method with a given name. However, you may achieve comparable functionality by utilizing default parameters or variable-length arguments (*args and **kwargs) in a method.\n\n## Let's take example to understand",
      "metadata": {}
    },
    {
      "cell_type": "code",
      "source": "class MathOperations:\n    def add(self, a, b=0, c=0):\n        return a + b + c\n\nmath_ops = MathOperations()\n\n# Calling with two arguments\nprint(math_ops.add(5, 10))     \n\n# Calling with one argument\nprint(math_ops.add(5))          \n\n# Calling with three arguments\nprint(math_ops.add(5, 10, 15)) \n",
      "metadata": {
        "trusted": true
      },
      "outputs": [
        {
          "name": "stdout",
          "text": "15\n5\n30\n",
          "output_type": "stream"
        }
      ],
      "execution_count": 10
    },
    {
      "cell_type": "markdown",
      "source": "5.What are the three types of access modifiers in Python? How are they denoted?",
      "metadata": {}
    },
    {
      "cell_type": "markdown",
      "source": "Ans: In Python, there are three types of access modifiers that control access to class attributes and methods:\n\n1.Public : It is possible to access methods and attributes from outside the class.\n\n2.protected : The purpose of attributes and methods is to restrict access to the class and its subclasses.\nSignification: Accompanied by a solitary underscore (_).\n\n3.Private : Neither outside the class nor from subclasses are attributes or methods accessible from outside the class.\nIt is denoted by Double underscore (__) is used as a prefix.\n\n## Let's take example to uderstand",
      "metadata": {}
    },
    {
      "cell_type": "code",
      "source": "## Public Attribute Example\nclass PublicExample:\n    def __init__(self):\n        self.public_attr = \"I am a public attribute\"\n\nobj = PublicExample()\nprint(obj.public_attr) \n",
      "metadata": {
        "trusted": true
      },
      "outputs": [
        {
          "name": "stdout",
          "text": "I am a public attribute\n",
          "output_type": "stream"
        }
      ],
      "execution_count": 15
    },
    {
      "cell_type": "code",
      "source": "### Protected Example\nclass ProtectedExample:\n    def __init__(self):\n        self._protected_attr = \"I am a protected attribute\"\n\n    def display_protected(self):\n        return self._protected_attr\n        \nobj = ProtectedExample()\nprint(obj.display_protected())  \nprint(obj._protected_attr)      ",
      "metadata": {
        "trusted": true
      },
      "outputs": [
        {
          "name": "stdout",
          "text": "I am a protected attribute\nI am a protected attribute\n",
          "output_type": "stream"
        }
      ],
      "execution_count": 18
    },
    {
      "cell_type": "code",
      "source": "## Private \nclass PrivateExample:\n    def __init__(self):\n        self.__private_attr = \"I am a private attribute\"\n\n    def display_private(self):\n        return self.__private_attr\n\n# Example usage\nobj = PrivateExample()\nprint(obj.display_private())  # Output: I am a private attribute\n\n# Accessing private attribute (will raise an AttributeError)\n# print(obj.__private_attr)  # Uncommenting this line will cause an error\n\n# Accessing private attribute using name mangling\nprint(obj._PrivateExample__private_attr)  ",
      "metadata": {
        "trusted": true
      },
      "outputs": [
        {
          "name": "stdout",
          "text": "I am a private attribute\nI am a private attribute\n",
          "output_type": "stream"
        }
      ],
      "execution_count": 21
    },
    {
      "cell_type": "markdown",
      "source": "6.Describe the five types of inheritance in Python. Provide a simple example of multiple inheritance.",
      "metadata": {}
    },
    {
      "cell_type": "markdown",
      "source": "Ans:1.Single Inheritance: A child class inherits from a single parent class when there is only one parent class. This is the most basic type of inheritance.\n\n2.Multiple Inheritance: A child class may inherit from more than one parent class under multiple inheritance. This implies that all parent classes' methods and attributes are available to the child class.\n\n3.Multilevel Inheritance: A child class that participates in multilevel inheritance inherits from another child class that originates from a parent class. Inheritance is created in this way.\n\n4.The Inheritance Hierarchy: A single parent class gives birth to several child classes in a hierarchical inheritance system. The properties of the same parent class will be inherited by each child class.\n\n5.Hybrid Inheritance: Combining multiple inheritance types results in hybrid inheritance. Any combination of the aforementioned inheritance types is involved.\n\n## Let's take examples to understand for every 5 points",
      "metadata": {}
    },
    {
      "cell_type": "code",
      "source": "## single inheritance\n\nclass Parent:\n    def display(self):\n        print(\"Parent class\")\n\nclass Child(Parent):\n    pass\n\nchild = Child()\nchild.display()  ",
      "metadata": {
        "trusted": true
      },
      "outputs": [
        {
          "name": "stdout",
          "text": "Parent class\n",
          "output_type": "stream"
        }
      ],
      "execution_count": 1
    },
    {
      "cell_type": "code",
      "source": "## Multiple inheritence\n\nclass Parent1:\n    def display1(self):\n        print(\"Parent1 class\")\n\nclass Parent2:\n    def display2(self):\n        print(\"Parent2 class\")\n\nclass Child(Parent1, Parent2):\n    pass\n\nchild = Child()\nchild.display1()  \nchild.display2()  ",
      "metadata": {
        "trusted": true
      },
      "outputs": [
        {
          "name": "stdout",
          "text": "Parent1 class\nParent2 class\n",
          "output_type": "stream"
        }
      ],
      "execution_count": 2
    },
    {
      "cell_type": "code",
      "source": "### Multilevel inheritence\n\nclass Grandparent:\n    def show_grandparent(self):\n        print(\"Grandparent class\")\n\nclass Parent(Grandparent):\n    def show_parent(self):\n        print(\"Parent class\")\n\nclass Child(Parent):\n    pass\n\nchild = Child()\nchild.show_grandparent()  \nchild.show_parent()      \n",
      "metadata": {
        "trusted": true
      },
      "outputs": [
        {
          "name": "stdout",
          "text": "Grandparent class\nParent class\n",
          "output_type": "stream"
        }
      ],
      "execution_count": 3
    },
    {
      "cell_type": "code",
      "source": "## Hierarchial inheritence\n\nclass Parent:\n    def show(self):\n        print(\"Parent class\")\n\nclass Child1(Parent):\n    pass\n\nclass Child2(Parent):\n    pass\n\nchild1 = Child1()\nchild1.show() \n\nchild2 = Child2()\nchild2.show() ",
      "metadata": {
        "trusted": true
      },
      "outputs": [
        {
          "name": "stdout",
          "text": "Parent class\nParent class\n",
          "output_type": "stream"
        }
      ],
      "execution_count": 4
    },
    {
      "cell_type": "code",
      "source": "## Hybrid inheritence\n\nclass Parent:\n    def show(self):\n        print(\"Parent class\")\n\nclass Child1(Parent):\n    pass\n\nclass Child2(Parent):\n    pass\n\nclass GrandChild(Child1, Child2):\n    pass\n\ngrandchild = GrandChild()\ngrandchild.show() \n",
      "metadata": {
        "trusted": true
      },
      "outputs": [
        {
          "name": "stdout",
          "text": "Parent class\n",
          "output_type": "stream"
        }
      ],
      "execution_count": 5
    },
    {
      "cell_type": "markdown",
      "source": "7.What is the Method Resolution Order (MRO) in Python? How can you retrieve it programmatically?",
      "metadata": {}
    },
    {
      "cell_type": "markdown",
      "source": "Ans:When a method is executed in Python, the base classes that are searched in order are specified by the Method Resolution Order (MRO). Avoiding conflicts is especially important in situations involving multiple inheritance, such as when different base classes describe the same method.\n\nPython calculates the MRO using the C3 Linearization (C3 superclass linearization) technique. The MRO makes ensuring that methods in a class hierarchy are resolved in a linear, consistent order.\n\nImportant Information about MRO: \n1.MRO is simple when there is only one inheritance: the search begins in the current class, moves on to the parent class, and so forth.\n\n2.When handling multiple inheritance, MRO use C3 linearization to handle the order consistently while adhering to the class hierarchy depth-first and left-to-right.\n\n3.Another problem that the MRO assists in avoiding is the Diamond Problem, which arises when a class inherits from two classes that share an ancestor.",
      "metadata": {}
    },
    {
      "cell_type": "code",
      "source": "## we can retrieve the MRO in Python using the __mro__ attribute or the built-in mro() method.\n## Using __mro__:\n\nclass A:\n    pass\n\nclass B(A):\n    pass\n\nclass C(A):\n    pass\n\nclass D(B, C):\n    pass\n\nprint(D.__mro__)\n",
      "metadata": {
        "trusted": true
      },
      "outputs": [
        {
          "name": "stdout",
          "text": "(<class '__main__.D'>, <class '__main__.B'>, <class '__main__.C'>, <class '__main__.A'>, <class 'object'>)\n",
          "output_type": "stream"
        }
      ],
      "execution_count": 6
    },
    {
      "cell_type": "code",
      "source": "## Multiple inheritence\n\nclass X:\n    def method(self):\n        print(\"Method from X\")\n\nclass Y(X):\n    def method(self):\n        print(\"Method from Y\")\n\nclass Z(X):\n    def method(self):\n        print(\"Method from Z\")\n\nclass A(Y, Z):\n    pass\n\n# Retrieving MRO\nprint(A.mro())\n\n# Invoking method to see MRO in action\na = A()\na.method()  # MRO will determine which method is called\n",
      "metadata": {
        "trusted": true
      },
      "outputs": [
        {
          "name": "stdout",
          "text": "[<class '__main__.A'>, <class '__main__.Y'>, <class '__main__.Z'>, <class '__main__.X'>, <class 'object'>]\nMethod from Y\n",
          "output_type": "stream"
        }
      ],
      "execution_count": 8
    },
    {
      "cell_type": "markdown",
      "source": "8. Create an abstract base class Shape with an abstract method 'area*. Then create two subclasses\n'Circle and 'Rectangle* that implement the area() method.",
      "metadata": {}
    },
    {
      "cell_type": "code",
      "source": "from abc import ABC, abstractmethod\nimport math\n\n# Abstract base class\nclass Shape(ABC):\n    @abstractmethod\n    def area(self):\n        pass\n\n# Subclass Circle\nclass Circle(Shape):\n    def __init__(self, radius):\n        self.radius = radius\n    \n    def area(self):\n        return math.pi * self.radius ** 2\n\n# Subclass Rectangle\nclass Rectangle(Shape):\n    def __init__(self, width, height):\n        self.width = width\n        self.height = height\n    \n    def area(self):\n        return self.width * self.height\n\n# Creating instances of Circle and Rectangle\ncircle = Circle(5)  # Circle with radius 5\nrectangle = Rectangle(4, 6)  # Rectangle with width 4 and height 6\n\n# Printing the area of the shapes\nprint(f\"Area of Circle: {circle.area()}\")      \nprint(f\"Area of Rectangle: {rectangle.area()}\")  \n",
      "metadata": {
        "trusted": true
      },
      "outputs": [
        {
          "name": "stdout",
          "text": "Area of Circle: 78.53981633974483\nArea of Rectangle: 24\n",
          "output_type": "stream"
        }
      ],
      "execution_count": 9
    },
    {
      "cell_type": "markdown",
      "source": "9. Demonstrate polymorphism by creating a function that can work with different shape objects to calculate and print their areas.",
      "metadata": {}
    },
    {
      "cell_type": "markdown",
      "source": "Ans:With polymorphism, we can construct methods that, if they share the same interface, can operate on objects of different classes (i.e., implement the same method). In this instance, polymorphism can be used to build a function that, regardless of the precise kind of shape, can be used with any shape that has an area() method.\n\nPolymorphism Illustrated Using Shapes\nIn order to develop a method that accepts a shape object and outputs its area, we will utilize the Shape, Circle, and Rectangle classes from the previous example. This function is called print_area(). This function demonstrates polymorphism by working with any object that contains the area() method.\n\n## Let's take example to understand",
      "metadata": {}
    },
    {
      "cell_type": "code",
      "source": "from abc import ABC, abstractmethod\nimport math\n\n# Abstract base class\nclass Shape(ABC):\n    @abstractmethod\n    def area(self):\n        pass\n\n# Subclass Circle\nclass Circle(Shape):\n    def __init__(self, radius):\n        self.radius = radius\n    \n    def area(self):\n        return math.pi * self.radius ** 2\n\n# Subclass Rectangle\nclass Rectangle(Shape):\n    def __init__(self, width, height):\n        self.width = width\n        self.height = height\n    \n    def area(self):\n        return self.width * self.height\n\n# Polymorphic function to print area\ndef print_area(shape):\n    print(f\"Area: {shape.area()}\")\n\n# Creating instances of Circle and Rectangle\ncircle = Circle(5)  # Circle with radius 5\nrectangle = Rectangle(4, 6)  # Rectangle with width 4 and height 6\n\n# Calling the polymorphic function with different shapes\nprint_area(circle)     # Output: Area of Circle\nprint_area(rectangle)  # Output: Area of Rectangle",
      "metadata": {
        "trusted": true
      },
      "outputs": [
        {
          "name": "stdout",
          "text": "Area: 78.53981633974483\nArea: 24\n",
          "output_type": "stream"
        }
      ],
      "execution_count": 10
    },
    {
      "cell_type": "markdown",
      "source": "10. Implement encapsulation in a 'BankAccount class with private attributes for 'balance and\n'account_number. Include methods for deposit, withdrawal, and balance inquiry.",
      "metadata": {}
    },
    {
      "cell_type": "markdown",
      "source": "Ans: A fundamental idea in object-oriented programming (OOP) is encapsulation, which limits direct access to an object's contents while permitting controlled access through methods. Encapsulation in Python can be accomplished by designating certain characteristics as private and making their interaction methods public. This is done by prefixing attributes with double underscores (__).\n\nEncapsulation Implementation in a BankAccount Class\nTwo private attributes, __balance and __account_number, will be encapsulated in a class called BankAccount. We'll offer techniques for:\n\nMoney can be deposited (deposit()), withdrawn (withdraw()), and the balance can be checked (get_balance()).\n\n## Let's take example to understand\n",
      "metadata": {}
    },
    {
      "cell_type": "code",
      "source": "class BankAccount:\n    def __init__(self, account_number, initial_balance=0):\n        self.__account_number = account_number   # Private attribute for account number\n        self.__balance = initial_balance         # Private attribute for balance\n\n    # Method for depositing money\n    def deposit(self, amount):\n        if amount > 0:\n            self.__balance += amount\n            print(f\"Deposited {amount}. New balance is {self.__balance}.\")\n        else:\n            print(\"Deposit amount must be positive.\")\n\n    # Method for withdrawing money\n    def withdraw(self, amount):\n        if amount > 0:\n            if self.__balance >= amount:\n                self.__balance -= amount\n                print(f\"Withdrew {amount}. New balance is {self.__balance}.\")\n            else:\n                print(\"Insufficient funds.\")\n        else:\n            print(\"Withdrawal amount must be positive.\")\n\n    # Method to get the current balance\n    def get_balance(self):\n        return self.__balance\n\n    # Optional: Method to get the account number\n    def get_account_number(self):\n        return self.__account_number\n\n# Creating an instance of BankAccount\naccount = BankAccount(\"12345678\", 1000)  # Initial balance is 1000\n\n# Accessing methods\naccount.deposit(500)      # Deposits 500\naccount.withdraw(200)     # Withdraws 200\nprint(f\"Current balance: {account.get_balance()}\")  # Prints the current balance\n",
      "metadata": {
        "trusted": true
      },
      "outputs": [
        {
          "name": "stdout",
          "text": "Deposited 500. New balance is 1500.\nWithdrew 200. New balance is 1300.\nCurrent balance: 1300\n",
          "output_type": "stream"
        }
      ],
      "execution_count": 15
    },
    {
      "cell_type": "markdown",
      "source": "11. Write a class that overrides the __str__'and'\n__add __* magic methods. What will these methods allow\nyou to do?",
      "metadata": {}
    },
    {
      "cell_type": "code",
      "source": "class Point:\n    def __init__(self, x, y):\n        self.x = x\n        self.y = y\n\n    # Override the __str__ method to provide a string representation of the Point\n    def __str__(self):\n        return f\"Point({self.x}, {self.y})\"\n    \n    # Override the __add__ method to allow addition of two Point objects\n    def __add__(self, other):\n        if isinstance(other, Point):\n            return Point(self.x + other.x, self.y + other.y)\n        else:\n            return NotImplemented\n\n# Creating two Point objects\np1 = Point(2, 3)\np2 = Point(4, 5)\n\n# Using the overridden __str__ method\nprint(p1)  # Output: Point(2, 3)\nprint(p2)  # Output: Point(4, 5)\n\n# Using the overridden __add__ method\np3 = p1 + p2\nprint(p3)  # Output: Point(6, 8)\n",
      "metadata": {
        "trusted": true
      },
      "outputs": [
        {
          "name": "stdout",
          "text": "Point(2, 3)\nPoint(4, 5)\nPoint(6, 8)\n",
          "output_type": "stream"
        }
      ],
      "execution_count": 16
    },
    {
      "cell_type": "markdown",
      "source": "What You Can Do with These Methods:\n__str__ gives you the ability to manipulate how your object is printed or when it is converted to a string, providing a clear, readable representation.\n\nBy defining unique behavior for the + operator, __add__ enables you to use objects in a natural and intuitive way, such as when combining two Point instances.\n",
      "metadata": {}
    },
    {
      "cell_type": "markdown",
      "source": "12.Create a decorator that measures and prints the execution time of a function.",
      "metadata": {}
    },
    {
      "cell_type": "code",
      "source": "import time\n\n# Define the decorator to measure execution time\ndef execution_time_decorator(func):\n    def wrapper(*args, **kwargs):\n        start_time = time.time()  # Record the start time\n        result = func(*args, **kwargs)  # Execute the wrapped function\n        end_time = time.time()  # Record the end time\n        execution_time = end_time - start_time  # Calculate the execution time\n        print(f\"Execution time of {func.__name__}: {execution_time:.4f} seconds\")\n        return result  # Return the result of the function\n    return wrapper\n\n# Example of a function using the decorator\n@execution_time_decorator\ndef example_function(n):\n    total = 0\n    for i in range(n):\n        total += i\n    return total\n\n# Call the decorated function\nresult = example_function(1000000)\nprint(f\"Result: {result}\")\n",
      "metadata": {
        "trusted": true
      },
      "outputs": [
        {
          "name": "stdout",
          "text": "Execution time of example_function: 0.0870 seconds\nResult: 499999500000\n",
          "output_type": "stream"
        }
      ],
      "execution_count": 18
    },
    {
      "cell_type": "markdown",
      "source": "13.Explain the concept of the Diamond Problem in multiple inheritance. How does Python resolve it?",
      "metadata": {}
    },
    {
      "cell_type": "markdown",
      "source": "Ans: Multiple Inheritance and the Diamond Problem: Object-oriented programming languages that facilitate multiple inheritance are susceptible to the Diamond Problem. A class experiences it when it inherits in the form of a diamond-shaped inheritance pattern from two or more classes that share an ancestor.\n\nThe Diamond Dilemma Explained\n\nThink about the following four-class scenario:\n\nA class, or base class\nClasses B and C are descended from A.\nClass D is descended from B and C.\n\n\nHow Python Resolves the Diamond Problem:\n\nThe Diamond Problem in Multiple Inheritance is solved by Python using Method Resolution Order (MRO) and C3 Linearization. A method called on a class that inherits from many classes has an MRO that decides which classes to check first.\n\nLinearization of C3:\n\nThe consistent inheritance order and the prioritization of subclasses over base classes are guaranteed by the C3 Linearization algorithm.\nPython's method of resolving overlaps (MRO) makes sure that every class in the inheritance tree appears exactly once in the MRO sequence.\n\nMRO in Python\n\nTo view the method resolution order for a class in Python, use the mro() function or the __mro__ attribute.\n",
      "metadata": {}
    },
    {
      "cell_type": "code",
      "source": "## Demonstrating the diamind problem and MRO\n\nclass A:\n    def greet(self):\n        print(\"Hello from A\")\n\nclass B(A):\n    def greet(self):\n        print(\"Hello from B\")\n\nclass C(A):\n    def greet(self):\n        print(\"Hello from C\")\n\nclass D(B, C):\n    pass\n\n# Create an instance of D\nd = D()\n\n# Calling the greet method\nd.greet()\n\n# Checking the MRO of class D\nprint(D.mro())\n",
      "metadata": {
        "trusted": true
      },
      "outputs": [
        {
          "name": "stdout",
          "text": "Hello from B\n[<class '__main__.D'>, <class '__main__.B'>, <class '__main__.C'>, <class '__main__.A'>, <class 'object'>]\n",
          "output_type": "stream"
        }
      ],
      "execution_count": 21
    },
    {
      "cell_type": "markdown",
      "source": "14.Write a class method that keeps track of the number of instances created from a class.",
      "metadata": {}
    },
    {
      "cell_type": "code",
      "source": "class MyClass:\n    # Class attribute to keep track of instance count\n    instance_count = 0\n\n    # Constructor to initialize new instances and increment the count\n    def __init__(self):\n        MyClass.instance_count += 1\n\n    # Class method to get the current instance count\n    @classmethod\n    def get_instance_count(cls):\n        return cls.instance_count\n\n# Creating instances of MyClass\nobj1 = MyClass()\nobj2 = MyClass()\nobj3 = MyClass()\n\n# Using the class method to retrieve the number of instances created\nprint(f\"Number of instances created: {MyClass.get_instance_count()}\")",
      "metadata": {
        "trusted": true
      },
      "outputs": [
        {
          "name": "stdout",
          "text": "Number of instances created: 3\n",
          "output_type": "stream"
        }
      ],
      "execution_count": 22
    },
    {
      "cell_type": "markdown",
      "source": "15.Implement a static method in a class that checks if a given year is a leap year.",
      "metadata": {}
    },
    {
      "cell_type": "markdown",
      "source": "Ans: You can use the following procedures to create a static method in a class that determines whether a particular year is a leap year:\n\n1.Use the @staticmethod decorator to define the static method.\nUse this reasoning to determine whether a given year is a leap year:\n\n2.A year that divides by 4 is considered a leap year.\n\n3.If a year is divisible by 100, it is not a leap year unless it is also divisible by 400.\n",
      "metadata": {}
    },
    {
      "cell_type": "markdown",
      "source": "15. Implement a static method in a class that checks if a given year is a leap year.",
      "metadata": {}
    },
    {
      "cell_type": "code",
      "source": "class YearUtils:\n    @staticmethod\n    def is_leap_year(year):\n        \"\"\"Check if a given year is a leap year.\"\"\"\n        if (year % 4 == 0 and year % 100 != 0) or (year % 400 == 0):\n            return True\n        return False\n\n# Example usage\nyear = 2024\nif YearUtils.is_leap_year(year):\n    print(f\"{year} is a leap year.\")\nelse:\n    print(f\"{year} is not a leap year.\")\n\n# Checking another year\nyear = 1900\nif YearUtils.is_leap_year(year):\n    print(f\"{year} is a leap year.\")\nelse:\n    print(f\"{year} is not a leap year.\")\n",
      "metadata": {
        "trusted": true
      },
      "outputs": [
        {
          "name": "stdout",
          "text": "2024 is a leap year.\n1900 is not a leap year.\n",
          "output_type": "stream"
        }
      ],
      "execution_count": 23
    }
  ]
}